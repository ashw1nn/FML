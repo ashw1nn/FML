{
 "cells": [
  {
   "cell_type": "markdown",
   "metadata": {},
   "source": [
    "# ME21B174 FML ASSIGNMENT 1"
   ]
  },
  {
   "cell_type": "markdown",
   "metadata": {},
   "source": [
    "# Question 1"
   ]
  },
  {
   "cell_type": "code",
   "execution_count": 1,
   "metadata": {},
   "outputs": [],
   "source": [
    "import numpy as np\n",
    "import pandas as pd\n",
    "import matplotlib.pyplot as plt"
   ]
  },
  {
   "cell_type": "markdown",
   "metadata": {},
   "source": [
    "Before loading the dataset, I have directly added column headers x1, x2 and y on the csv files(both train and test)."
   ]
  },
  {
   "cell_type": "code",
   "execution_count": 2,
   "metadata": {},
   "outputs": [],
   "source": [
    "# Loading the dataset\n",
    "train_data = pd.read_csv(\"FMLA1Q1Data_train.csv\")\n",
    "test_data = pd.read_csv(\"FMLA1Q1Data_test.csv\")"
   ]
  },
  {
   "cell_type": "code",
   "execution_count": 3,
   "metadata": {},
   "outputs": [
    {
     "name": "stdout",
     "output_type": "stream",
     "text": [
      "          x1       x2  x0\n",
      "0    0.53767  0.67370   1\n",
      "1    1.83390 -0.66911   1\n",
      "2   -2.25880 -0.40032   1\n",
      "3    0.86217 -0.67180   1\n",
      "4    0.31877  0.57563   1\n",
      "..       ...      ...  ..\n",
      "995  1.51060  2.02370   1\n",
      "996  0.16401  0.77779   1\n",
      "997 -0.28276 -0.54890   1\n",
      "998  1.15220 -0.12601   1\n",
      "999 -1.14650  0.29958   1\n",
      "\n",
      "[1000 rows x 3 columns]\n",
      "0       9.7251\n",
      "1      11.1090\n",
      "2      22.0270\n",
      "3       2.4278\n",
      "4       6.5156\n",
      "        ...   \n",
      "995    58.0210\n",
      "996     7.5994\n",
      "997     1.5992\n",
      "998     7.3712\n",
      "999     3.2247\n",
      "Name: y, Length: 1000, dtype: float64\n"
     ]
    }
   ],
   "source": [
    "y_train = train_data[\"y\"]\n",
    "X_train = train_data.drop(\"y\", axis=1)\n",
    "X_train[\"x0\"] = 1 \n",
    "print(X_train)\n",
    "print(y_train)"
   ]
  },
  {
   "cell_type": "code",
   "execution_count": 4,
   "metadata": {},
   "outputs": [
    {
     "name": "stdout",
     "output_type": "stream",
     "text": [
      "         x1        x2  x0\n",
      "0   0.87060 -0.730160   1\n",
      "1   0.33076 -0.916330   1\n",
      "2  -1.34790  1.787600   1\n",
      "3   1.54790 -0.820400   1\n",
      "4  -0.61664 -0.196710   1\n",
      "..      ...       ...  ..\n",
      "95 -2.10320  0.659230   1\n",
      "96  0.37392 -1.280400   1\n",
      "97  0.24518  0.050124   1\n",
      "98  0.33858  0.548400   1\n",
      "99 -1.07810  1.778400   1\n",
      "\n",
      "[100 rows x 3 columns]\n",
      "0      2.4105\n",
      "1      1.6318\n",
      "2     12.3770\n",
      "3      6.8406\n",
      "4      1.6138\n",
      "       ...   \n",
      "95    10.4300\n",
      "96     3.9106\n",
      "97     1.9747\n",
      "98     6.2960\n",
      "99    13.0210\n",
      "Name: y, Length: 100, dtype: float64\n"
     ]
    }
   ],
   "source": [
    "y_test = test_data[\"y\"]\n",
    "X_test = test_data.drop(\"y\", axis=1)\n",
    "X_test[\"x0\"] = 1\n",
    "print(X_test)\n",
    "print(y_test)"
   ]
  },
  {
   "cell_type": "code",
   "execution_count": 5,
   "metadata": {},
   "outputs": [
    {
     "name": "stdout",
     "output_type": "stream",
     "text": [
      "0    1.765706\n",
      "1    3.521590\n",
      "2    9.894008\n",
      "dtype: float64\n"
     ]
    }
   ],
   "source": [
    "w_ml = np.linalg.inv(X_train.T @ X_train) @ X_train.T @ y_train\n",
    "print(w_ml)"
   ]
  },
  {
   "cell_type": "code",
   "execution_count": 6,
   "metadata": {},
   "outputs": [],
   "source": [
    "def gradient_descent (X, y, w, learning_rate, epochs, w_ml, error_function):\n",
    "\n",
    "    for i in range(epochs):\n",
    "\n",
    "        gradient = (2 * (X.T @ ((X @ w) - y)))\n",
    "\n",
    "        w = w - learning_rate * gradient\n",
    "\n",
    "        error_function[i] = np.sum((w - w_ml) ** 2)\n",
    "\n",
    "    return w"
   ]
  },
  {
   "cell_type": "code",
   "execution_count": 7,
   "metadata": {},
   "outputs": [
    {
     "name": "stdout",
     "output_type": "stream",
     "text": [
      "Learning rate:  1e-05\n",
      "w_obtained: [0.98863418 2.36374798 6.31328896]\n",
      "w_theroretical: [1.76570568 3.5215898  9.89400832]\n",
      "\n",
      "Learning rate:  0.0001\n",
      "w_obtained: [1.76561784 3.52159758 9.89385432]\n",
      "w_theroretical: [1.76570568 3.5215898  9.89400832]\n",
      "\n",
      "Learning rate:  0.001\n",
      "w_obtained: [ 623.20827102 -669.48987213 -833.3463862 ]\n",
      "w_theroretical: [1.76570568 3.5215898  9.89400832]\n",
      "\n",
      "Learning rate:  0.01\n",
      "w_obtained: [ 5.02142187e+65 -5.68228868e+65 -7.05121633e+65]\n",
      "w_theroretical: [1.76570568 3.5215898  9.89400832]\n",
      "\n",
      "Learning rate:  0.1\n",
      "w_obtained: [ 4.47749932e+116 -5.10534669e+116 -6.33027851e+116]\n",
      "w_theroretical: [1.76570568 3.5215898  9.89400832]\n",
      "\n",
      "Learning rate:  1\n",
      "w_obtained: [ 5.54354531e+166 -6.32583313e+166 -7.84304483e+166]\n",
      "w_theroretical: [1.76570568 3.5215898  9.89400832]\n",
      "\n",
      "Learning rate:  10\n",
      "w_obtained: [ 5.66292538e+216 -6.46256789e+216 -8.01251882e+216]\n",
      "w_theroretical: [1.76570568 3.5215898  9.89400832]\n",
      "\n"
     ]
    },
    {
     "name": "stderr",
     "output_type": "stream",
     "text": [
      "C:\\Users\\sakth\\AppData\\Local\\Temp\\ipykernel_16656\\2572481711.py:9: RuntimeWarning: overflow encountered in square\n",
      "  error_function[i] = np.sum((w - w_ml) ** 2)\n"
     ]
    }
   ],
   "source": [
    "X_train = np.array(X_train)\n",
    "y_train = np.array(y_train)\n",
    "w_ml = np.array(w_ml)\n",
    "w_init = np.zeros(X_train.shape[1])\n",
    "epochs = 50\n",
    "error_function = np.zeros(epochs)\n",
    "\n",
    "\n",
    "learning_rates = [0.00001, 0.0001, 0.001, 0.01, 0.1, 1, 10]\n",
    "\n",
    "for l in learning_rates :\n",
    "    w = gradient_descent(X_train, y_train, w_init, l, epochs, w_ml, error_function)\n",
    "    print(\"Learning rate: \", l)\n",
    "    print(f\"w_obtained: {w}\")\n",
    "    print(f\"w_theroretical: {w_ml}\")\n",
    "    print()"
   ]
  },
  {
   "cell_type": "code",
   "execution_count": 8,
   "metadata": {},
   "outputs": [
    {
     "data": {
      "text/plain": [
       "[<matplotlib.lines.Line2D at 0x209a5b8ad80>]"
      ]
     },
     "execution_count": 8,
     "metadata": {},
     "output_type": "execute_result"
    },
    {
     "data": {
      "image/png": "[encoded data removed]",
      "text/plain": [
       "<Figure size 640x480 with 1 Axes>"
      ]
     },
     "metadata": {},
     "output_type": "display_data"
    }
   ],
   "source": [
    "w = gradient_descent(X_train, y_train, w_init, 0.0001, epochs, w_ml, error_function)\n",
    "plt.plot(error_function)"
   ]
  },
  {
   "cell_type": "code",
   "execution_count": 9,
   "metadata": {},
   "outputs": [],
   "source": [
    "def stochastic_gradient_descent(train, w, learning_rate, epochs, w_ml, error_function):\n",
    "\n",
    "    w_sum = 0\n",
    "\n",
    "    for i in range(epochs):\n",
    "\n",
    "        random_batch = train.sample(frac = 0.1, replace = False)\n",
    "        X_rand = random_batch.drop(\"y\", axis = 1)\n",
    "        y_rand = random_batch[\"y\"]\n",
    "\n",
    "        gradient = (2 * (X_rand.T @ ((X_rand @ w) - y_rand)))\n",
    "\n",
    "        w = w - learning_rate * gradient\n",
    "\n",
    "        error_function[i] = np.sum((w - w_ml) ** 2)\n",
    "\n",
    "        w_sum = w_sum + w\n",
    "\n",
    "    w_average = w_sum / epochs\n",
    "    \n",
    "    return w_average"
   ]
  },
  {
   "cell_type": "code",
   "execution_count": 10,
   "metadata": {},
   "outputs": [
    {
     "ename": "ValueError",
     "evalue": "Dot product shape mismatch, (100, 2) vs (3,)",
     "output_type": "error",
     "traceback": [
      "\u001b[1;31m---------------------------------------------------------------------------\u001b[0m",
      "\u001b[1;31mValueError\u001b[0m                                Traceback (most recent call last)",
      "\u001b[1;32m~\\AppData\\Local\\Temp\\ipykernel_16656\\1379452583.py\u001b[0m in \u001b[0;36m?\u001b[1;34m()\u001b[0m\n\u001b[0;32m      1\u001b[0m \u001b[0mw_init\u001b[0m \u001b[1;33m=\u001b[0m \u001b[0mnp\u001b[0m\u001b[1;33m.\u001b[0m\u001b[0mzeros\u001b[0m\u001b[1;33m(\u001b[0m\u001b[0mX_train\u001b[0m\u001b[1;33m.\u001b[0m\u001b[0mshape\u001b[0m\u001b[1;33m[\u001b[0m\u001b[1;36m1\u001b[0m\u001b[1;33m]\u001b[0m\u001b[1;33m)\u001b[0m\u001b[1;33m\u001b[0m\u001b[1;33m\u001b[0m\u001b[0m\n\u001b[0;32m      2\u001b[0m \u001b[0mepochs\u001b[0m \u001b[1;33m=\u001b[0m \u001b[1;36m1000\u001b[0m\u001b[1;33m\u001b[0m\u001b[1;33m\u001b[0m\u001b[0m\n\u001b[0;32m      3\u001b[0m \u001b[0merror_function\u001b[0m\u001b[1;33m=\u001b[0m \u001b[0mnp\u001b[0m\u001b[1;33m.\u001b[0m\u001b[0mzeros\u001b[0m\u001b[1;33m(\u001b[0m\u001b[0mepochs\u001b[0m\u001b[1;33m)\u001b[0m\u001b[1;33m\u001b[0m\u001b[1;33m\u001b[0m\u001b[0m\n\u001b[0;32m      4\u001b[0m \u001b[1;33m\u001b[0m\u001b[0m\n\u001b[1;32m----> 5\u001b[1;33m \u001b[0mw_stochastic\u001b[0m \u001b[1;33m=\u001b[0m \u001b[0mstochastic_gradient_descent\u001b[0m\u001b[1;33m(\u001b[0m\u001b[0mtrain_data\u001b[0m\u001b[1;33m,\u001b[0m \u001b[0mw\u001b[0m\u001b[1;33m,\u001b[0m \u001b[1;36m0.01\u001b[0m\u001b[1;33m,\u001b[0m \u001b[0mepochs\u001b[0m\u001b[1;33m,\u001b[0m \u001b[0mw_ml\u001b[0m\u001b[1;33m,\u001b[0m \u001b[0merror_function\u001b[0m\u001b[1;33m)\u001b[0m\u001b[1;33m\u001b[0m\u001b[1;33m\u001b[0m\u001b[0m\n\u001b[0m\u001b[0;32m      6\u001b[0m \u001b[0mprint\u001b[0m\u001b[1;33m(\u001b[0m\u001b[0mw_stochastic\u001b[0m\u001b[1;33m)\u001b[0m\u001b[1;33m\u001b[0m\u001b[1;33m\u001b[0m\u001b[0m\n",
      "\u001b[1;32m~\\AppData\\Local\\Temp\\ipykernel_16656\\2963128726.py\u001b[0m in \u001b[0;36m?\u001b[1;34m(train, w, learning_rate, epochs, w_ml, error_function)\u001b[0m\n\u001b[0;32m      7\u001b[0m         \u001b[0mrandom_batch\u001b[0m \u001b[1;33m=\u001b[0m \u001b[0mtrain\u001b[0m\u001b[1;33m.\u001b[0m\u001b[0msample\u001b[0m\u001b[1;33m(\u001b[0m\u001b[0mfrac\u001b[0m \u001b[1;33m=\u001b[0m \u001b[1;36m0.1\u001b[0m\u001b[1;33m,\u001b[0m \u001b[0mreplace\u001b[0m \u001b[1;33m=\u001b[0m \u001b[1;32mFalse\u001b[0m\u001b[1;33m)\u001b[0m\u001b[1;33m\u001b[0m\u001b[1;33m\u001b[0m\u001b[0m\n\u001b[0;32m      8\u001b[0m         \u001b[0mX_rand\u001b[0m \u001b[1;33m=\u001b[0m \u001b[0mrandom_batch\u001b[0m\u001b[1;33m.\u001b[0m\u001b[0mdrop\u001b[0m\u001b[1;33m(\u001b[0m\u001b[1;34m\"y\"\u001b[0m\u001b[1;33m,\u001b[0m \u001b[0maxis\u001b[0m \u001b[1;33m=\u001b[0m \u001b[1;36m1\u001b[0m\u001b[1;33m)\u001b[0m\u001b[1;33m\u001b[0m\u001b[1;33m\u001b[0m\u001b[0m\n\u001b[0;32m      9\u001b[0m         \u001b[0my_rand\u001b[0m \u001b[1;33m=\u001b[0m \u001b[0mrandom_batch\u001b[0m\u001b[1;33m[\u001b[0m\u001b[1;34m\"y\"\u001b[0m\u001b[1;33m]\u001b[0m\u001b[1;33m\u001b[0m\u001b[1;33m\u001b[0m\u001b[0m\n\u001b[0;32m     10\u001b[0m \u001b[1;33m\u001b[0m\u001b[0m\n\u001b[1;32m---> 11\u001b[1;33m         \u001b[0mgradient\u001b[0m \u001b[1;33m=\u001b[0m \u001b[1;33m(\u001b[0m\u001b[1;36m2\u001b[0m \u001b[1;33m*\u001b[0m \u001b[1;33m(\u001b[0m\u001b[0mX_rand\u001b[0m\u001b[1;33m.\u001b[0m\u001b[0mT\u001b[0m \u001b[1;33m@\u001b[0m \u001b[1;33m(\u001b[0m\u001b[1;33m(\u001b[0m\u001b[0mX_rand\u001b[0m \u001b[1;33m@\u001b[0m \u001b[0mw\u001b[0m\u001b[1;33m)\u001b[0m \u001b[1;33m-\u001b[0m \u001b[0my_rand\u001b[0m\u001b[1;33m)\u001b[0m\u001b[1;33m)\u001b[0m\u001b[1;33m)\u001b[0m\u001b[1;33m\u001b[0m\u001b[1;33m\u001b[0m\u001b[0m\n\u001b[0m\u001b[0;32m     12\u001b[0m \u001b[1;33m\u001b[0m\u001b[0m\n\u001b[0;32m     13\u001b[0m         \u001b[0mw\u001b[0m \u001b[1;33m=\u001b[0m \u001b[0mw\u001b[0m \u001b[1;33m-\u001b[0m \u001b[0mlearning_rate\u001b[0m \u001b[1;33m*\u001b[0m \u001b[0mgradient\u001b[0m\u001b[1;33m\u001b[0m\u001b[1;33m\u001b[0m\u001b[0m\n\u001b[0;32m     14\u001b[0m \u001b[1;33m\u001b[0m\u001b[0m\n",
      "\u001b[1;32mc:\\Users\\sakth\\AppData\\Local\\Programs\\Python\\Python312\\Lib\\site-packages\\pandas\\core\\frame.py\u001b[0m in \u001b[0;36m?\u001b[1;34m(self, other)\u001b[0m\n\u001b[0;32m   1783\u001b[0m     \u001b[1;32mdef\u001b[0m \u001b[0m__matmul__\u001b[0m\u001b[1;33m(\u001b[0m\u001b[0mself\u001b[0m\u001b[1;33m,\u001b[0m \u001b[0mother\u001b[0m\u001b[1;33m:\u001b[0m \u001b[0mAnyArrayLike\u001b[0m \u001b[1;33m|\u001b[0m \u001b[0mDataFrame\u001b[0m\u001b[1;33m)\u001b[0m \u001b[1;33m->\u001b[0m \u001b[0mDataFrame\u001b[0m \u001b[1;33m|\u001b[0m \u001b[0mSeries\u001b[0m\u001b[1;33m:\u001b[0m\u001b[1;33m\u001b[0m\u001b[1;33m\u001b[0m\u001b[0m\n\u001b[0;32m   1784\u001b[0m         \"\"\"\n\u001b[0;32m   1785\u001b[0m         \u001b[0mMatrix\u001b[0m \u001b[0mmultiplication\u001b[0m \u001b[0musing\u001b[0m \u001b[0mbinary\u001b[0m \u001b[1;33m`\u001b[0m\u001b[1;33m@\u001b[0m\u001b[1;33m`\u001b[0m \u001b[0moperator\u001b[0m\u001b[1;33m.\u001b[0m\u001b[1;33m\u001b[0m\u001b[1;33m\u001b[0m\u001b[0m\n\u001b[0;32m   1786\u001b[0m         \"\"\"\n\u001b[1;32m-> 1787\u001b[1;33m         \u001b[1;32mreturn\u001b[0m \u001b[0mself\u001b[0m\u001b[1;33m.\u001b[0m\u001b[0mdot\u001b[0m\u001b[1;33m(\u001b[0m\u001b[0mother\u001b[0m\u001b[1;33m)\u001b[0m\u001b[1;33m\u001b[0m\u001b[1;33m\u001b[0m\u001b[0m\n\u001b[0m",
      "\u001b[1;32mc:\\Users\\sakth\\AppData\\Local\\Programs\\Python\\Python312\\Lib\\site-packages\\pandas\\core\\frame.py\u001b[0m in \u001b[0;36m?\u001b[1;34m(self, other)\u001b[0m\n\u001b[0;32m   1744\u001b[0m             \u001b[0mleft\u001b[0m \u001b[1;33m=\u001b[0m \u001b[0mself\u001b[0m\u001b[1;33m\u001b[0m\u001b[1;33m\u001b[0m\u001b[0m\n\u001b[0;32m   1745\u001b[0m             \u001b[0mlvals\u001b[0m \u001b[1;33m=\u001b[0m \u001b[0mself\u001b[0m\u001b[1;33m.\u001b[0m\u001b[0mvalues\u001b[0m\u001b[1;33m\u001b[0m\u001b[1;33m\u001b[0m\u001b[0m\n\u001b[0;32m   1746\u001b[0m             \u001b[0mrvals\u001b[0m \u001b[1;33m=\u001b[0m \u001b[0mnp\u001b[0m\u001b[1;33m.\u001b[0m\u001b[0masarray\u001b[0m\u001b[1;33m(\u001b[0m\u001b[0mother\u001b[0m\u001b[1;33m)\u001b[0m\u001b[1;33m\u001b[0m\u001b[1;33m\u001b[0m\u001b[0m\n\u001b[0;32m   1747\u001b[0m             \u001b[1;32mif\u001b[0m \u001b[0mlvals\u001b[0m\u001b[1;33m.\u001b[0m\u001b[0mshape\u001b[0m\u001b[1;33m[\u001b[0m\u001b[1;36m1\u001b[0m\u001b[1;33m]\u001b[0m \u001b[1;33m!=\u001b[0m \u001b[0mrvals\u001b[0m\u001b[1;33m.\u001b[0m\u001b[0mshape\u001b[0m\u001b[1;33m[\u001b[0m\u001b[1;36m0\u001b[0m\u001b[1;33m]\u001b[0m\u001b[1;33m:\u001b[0m\u001b[1;33m\u001b[0m\u001b[1;33m\u001b[0m\u001b[0m\n\u001b[1;32m-> 1748\u001b[1;33m                 raise ValueError(\n\u001b[0m\u001b[0;32m   1749\u001b[0m                     \u001b[1;33mf\"\u001b[0m\u001b[1;33mDot product shape mismatch, \u001b[0m\u001b[1;33m{\u001b[0m\u001b[0mlvals\u001b[0m\u001b[1;33m.\u001b[0m\u001b[0mshape\u001b[0m\u001b[1;33m}\u001b[0m\u001b[1;33m vs \u001b[0m\u001b[1;33m{\u001b[0m\u001b[0mrvals\u001b[0m\u001b[1;33m.\u001b[0m\u001b[0mshape\u001b[0m\u001b[1;33m}\u001b[0m\u001b[1;33m\"\u001b[0m\u001b[1;33m\u001b[0m\u001b[1;33m\u001b[0m\u001b[0m\n\u001b[0;32m   1750\u001b[0m                 \u001b[1;33m)\u001b[0m\u001b[1;33m\u001b[0m\u001b[1;33m\u001b[0m\u001b[0m\n\u001b[0;32m   1751\u001b[0m \u001b[1;33m\u001b[0m\u001b[0m\n",
      "\u001b[1;31mValueError\u001b[0m: Dot product shape mismatch, (100, 2) vs (3,)"
     ]
    }
   ],
   "source": [
    "w_init = np.zeros(X_train.shape[1])\n",
    "epochs = 1000\n",
    "error_function= np.zeros(epochs)\n",
    "\n",
    "w_stochastic = stochastic_gradient_descent(train_data, w, 0.01, epochs, w_ml, error_function)\n",
    "print(w_stochastic)"
   ]
  },
  {
   "cell_type": "code",
   "execution_count": 28,
   "metadata": {},
   "outputs": [],
   "source": [
    "def ridge_regresssion(X, y, w, learning_rate, epochs, lamda):\n",
    "\n",
    "    for i in range(epochs):\n",
    "\n",
    "        gradient = (2 * (X.T @ ((X @ w) - y)) + 2 * lamda* w) / len(y)\n",
    "\n",
    "        w = w - learning_rate * gradient\n",
    "\n",
    "    return w"
   ]
  },
  {
   "cell_type": "code",
   "execution_count": 29,
   "metadata": {},
   "outputs": [],
   "source": [
    "def error(y_pred, y_true):\n",
    "    return (np.sum((y_pred - y_true) ** 2)/ len(y_pred))"
   ]
  },
  {
   "cell_type": "code",
   "execution_count": 33,
   "metadata": {},
   "outputs": [
    {
     "name": "stdout",
     "output_type": "stream",
     "text": [
      "165.65124787094973\n",
      "165.65125366644384\n",
      "165.65131162146125\n",
      "165.6518911792415\n",
      "165.6576875173934\n",
      "165.7157266519064\n",
      "166.30341720830674\n",
      "172.68354241502573\n"
     ]
    },
    {
     "data": {
      "image/png": "[encoded data removed]",
      "text/plain": [
       "<Figure size 640x480 with 1 Axes>"
      ]
     },
     "metadata": {},
     "output_type": "display_data"
    }
   ],
   "source": [
    "# Train test split\n",
    "\n",
    "val_split = train_data.iloc[:200, :]\n",
    "train_split =train_data.iloc[200:, :]\n",
    "\n",
    "X_train_split = train_split.drop(\"y\", axis = 1)\n",
    "X_train_split[\"x0\"] = 1\n",
    "y_train_split = train_split[\"y\"]\n",
    "\n",
    "X_val_split = val_split.drop(\"y\", axis = 1)\n",
    "X_val_split[\"x0\"] = 1\n",
    "y_val_split = val_split[\"y\"]\n",
    "\n",
    "w_init = np.zeros(X_train.shape[1])\n",
    "epochs = 1000\n",
    "lamda = [0.00001, 0.0001, 0.001, 0.01, 0.1, 1, 10, 100]\n",
    "\n",
    "for l in lamda :\n",
    "\n",
    "    w_ridge = ridge_regresssion(X_train_split, y_train_split, w_init, 0.1, epochs, l)\n",
    "\n",
    "    y_val_pred = X_val_split @ w_ridge\n",
    "    y_val_pred_ml = X_val_split @ w_ml\n",
    "\n",
    "    print(error(y_val_pred, y_val_split))\n",
    "\n",
    "    plt.plot(l, error(y_val_pred, y_val_split), 'bo') \n",
    "    plt.plot(l, error(y_val_pred_ml, y_val_split), 'ro')\n",
    "    plt.xscale('log')\n",
    "    "
   ]
  },
  {
   "cell_type": "code",
   "execution_count": 14,
   "metadata": {},
   "outputs": [
    {
     "name": "stdout",
     "output_type": "stream",
     "text": [
      "155.1617757840709\n",
      "142.76610663299087\n"
     ]
    }
   ],
   "source": [
    "w_ridge = ridge_regresssion(X_train, y_train, w_init, 0.0001, epochs, 0.001)\n",
    "\n",
    "y_pred_ridge = X_test @ w_ridge \n",
    "\n",
    "y_pred_ml = X_test @ w_ml\n",
    "\n",
    "ridge_error = error(y_pred_ridge, y_test)\n",
    "ml_error = error(y_pred_ml, y_test)\n",
    "\n",
    "print(ridge_error)\n",
    "print(ml_error) "
   ]
  }
 ],
 "metadata": {
  "kernelspec": {
   "display_name": "Python 3",
   "language": "python",
   "name": "python3"
  },
  "language_info": {
   "codemirror_mode": {
    "name": "ipython",
    "version": 3
   },
   "file_extension": ".py",
   "mimetype": "text/x-python",
   "name": "python",
   "nbconvert_exporter": "python",
   "pygments_lexer": "ipython3",
   "version": "3.12.5"
  }
 },
 "nbformat": 4,
 "nbformat_minor": 2
}
